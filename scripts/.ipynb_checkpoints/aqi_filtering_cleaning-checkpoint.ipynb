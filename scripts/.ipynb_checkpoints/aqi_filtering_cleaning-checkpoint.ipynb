{
 "cells": [
  {
   "cell_type": "code",
   "execution_count": null,
   "id": "eb3e21ca",
   "metadata": {},
   "outputs": [],
   "source": [
    "import pandas as pd"
   ]
  },
  {
   "cell_type": "code",
   "execution_count": null,
   "id": "77acf09a",
   "metadata": {},
   "outputs": [],
   "source": [
    "#reading in air quality index data for all available years\n",
    "aqi2016 = pd.read_csv('../data/daily_aqi_by_county_2016.csv')\n",
    "aqi2017 = pd.read_csv('../data/daily_aqi_by_county_2017.csv')\n",
    "aqi2018 = pd.read_csv('../data/daily_aqi_by_county_2018.csv')\n",
    "aqi2019 = pd.read_csv('../data/daily_aqi_by_county_2019.csv')\n",
    "aqi2020 = pd.read_csv('../data/daily_aqi_by_county_2020.csv')\n",
    "aqi2021 = pd.read_csv('../data/daily_aqi_by_county_2021.csv')\n",
    "aqi2022 = pd.read_csv('../data/daily_aqi_by_county_2022.csv')"
   ]
  },
  {
   "cell_type": "code",
   "execution_count": null,
   "id": "b03d6635",
   "metadata": {},
   "outputs": [],
   "source": [
    "#joining all aqi frames together to more easily subset to just the needed counties.\n",
    "aqi = pd.concat([aqi2016, aqi2017, aqi2018, aqi2019, aqi2020, aqi2021, aqi2022], ignore_index=True, axis=0)"
   ]
  },
  {
   "cell_type": "code",
   "execution_count": null,
   "id": "a94d81d9",
   "metadata": {},
   "outputs": [],
   "source": [
    "#creating a list of counties the GRSM park occupies in TN.\n",
    "grsmcounties = ['Blount', 'Sevier', 'Cocke']"
   ]
  },
  {
   "cell_type": "code",
   "execution_count": null,
   "id": "e7c09d49",
   "metadata": {},
   "outputs": [],
   "source": [
    "#Subsetting to just the counties needed.\n",
    "grsmaqi = aqi[(aqi['State Name'] == 'Tennessee') & (aqi['county Name'].isin(grsmcounties))]"
   ]
  },
  {
   "cell_type": "code",
   "execution_count": null,
   "id": "5d68df21",
   "metadata": {},
   "outputs": [],
   "source": [
    "#checking for null values, everything appears complete\n",
    "grsmaqi.info()"
   ]
  },
  {
   "cell_type": "code",
   "execution_count": null,
   "id": "09ae0a6a",
   "metadata": {},
   "outputs": [],
   "source": [
    "#pivoted in excel and averaged over the three counties representing the GRSMNP in TN.\n",
    "grsmaqi.to_csv('../data/grsmaqi.csv')"
   ]
  }
 ],
 "metadata": {
  "kernelspec": {
   "display_name": "Python 3 (ipykernel)",
   "language": "python",
   "name": "python3"
  },
  "language_info": {
   "codemirror_mode": {
    "name": "ipython",
    "version": 3
   },
   "file_extension": ".py",
   "mimetype": "text/x-python",
   "name": "python",
   "nbconvert_exporter": "python",
   "pygments_lexer": "ipython3",
   "version": "3.9.13"
  }
 },
 "nbformat": 4,
 "nbformat_minor": 5
}
