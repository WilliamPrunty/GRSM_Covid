{
 "cells": [
  {
   "cell_type": "code",
   "execution_count": null,
   "id": "a7db4d11",
   "metadata": {},
   "outputs": [],
   "source": [
    "import pandas as pd\n",
    "import matplotlib.pyplot as plt\n",
    "import seaborn as sns\n",
    "import datetime as dt"
   ]
  },
  {
   "cell_type": "code",
   "execution_count": null,
   "id": "3dc22f2f",
   "metadata": {},
   "outputs": [],
   "source": [
    "#reading in waterquality data for Pigeon River\n",
    "waterquality = pd.read_csv('../data/waterdata_pigeon_river_grsm.csv')"
   ]
  },
  {
   "cell_type": "code",
   "execution_count": null,
   "id": "cbff30cb",
   "metadata": {},
   "outputs": [],
   "source": [
    "#investigating measures reported\n",
    "waterquality['Characteristic Name'].unique()"
   ]
  },
  {
   "cell_type": "code",
   "execution_count": null,
   "id": "71520bcb",
   "metadata": {},
   "outputs": [],
   "source": [
    "#understanding the frequency they are reported at.\n",
    "waterquality['Characteristic Name'].value_counts()"
   ]
  },
  {
   "cell_type": "code",
   "execution_count": null,
   "id": "4f2f35d5",
   "metadata": {},
   "outputs": [],
   "source": [
    "#creating a filtering list of the most relevant results based on guidelines set forth by the National Sanitation Foundations Water Quality Index.\n",
    "\n",
    "qualitylist = ['Total dissolved solids', 'Turbidity', 'Color pH', 'Escherichia coli', 'Temperature, water', 'Conductivity', 'pH', 'Dissolved oxygen (DO)', 'Nitrate + Nitrite', 'Phosphorus']"
   ]
  },
  {
   "cell_type": "code",
   "execution_count": null,
   "id": "016412f5",
   "metadata": {},
   "outputs": [],
   "source": [
    "#filtering the water quality table\n",
    "waterqualityfiltered = waterquality[(waterquality['Characteristic Name'].isin(qualitylist))]"
   ]
  },
  {
   "cell_type": "code",
   "execution_count": null,
   "id": "b22ad01f",
   "metadata": {},
   "outputs": [],
   "source": [
    "#saving to csv to pivot in excel and continue analysis.\n",
    "waterqualityfiltered.to_csv('../data/waterqualityfiltered.csv')"
   ]
  },
  {
   "cell_type": "code",
   "execution_count": null,
   "id": "a8f6b9e3",
   "metadata": {},
   "outputs": [],
   "source": [
    "#reading in water quality index data\n",
    "wqi = pd.read_csv('../data/wqi_pigeon_river.csv', encoding= 'unicode_escape')"
   ]
  },
  {
   "cell_type": "code",
   "execution_count": null,
   "id": "9e42d028",
   "metadata": {},
   "outputs": [],
   "source": [
    "wqi.describe()"
   ]
  },
  {
   "cell_type": "code",
   "execution_count": null,
   "id": "0e182d1c",
   "metadata": {},
   "outputs": [],
   "source": [
    "wqi.info()"
   ]
  }
 ],
 "metadata": {
  "kernelspec": {
   "display_name": "Python 3 (ipykernel)",
   "language": "python",
   "name": "python3"
  },
  "language_info": {
   "codemirror_mode": {
    "name": "ipython",
    "version": 3
   },
   "file_extension": ".py",
   "mimetype": "text/x-python",
   "name": "python",
   "nbconvert_exporter": "python",
   "pygments_lexer": "ipython3",
   "version": "3.9.13"
  }
 },
 "nbformat": 4,
 "nbformat_minor": 5
}
