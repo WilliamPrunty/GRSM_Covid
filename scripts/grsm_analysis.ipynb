{
 "cells": [
  {
   "cell_type": "code",
   "execution_count": null,
   "id": "884551cb",
   "metadata": {},
   "outputs": [],
   "source": [
    "import pandas as pd\n",
    "import matplotlib.pyplot as plt\n",
    "import seaborn as sns\n",
    "import datetime as dt\n",
    "import re\n",
    "import calendar"
   ]
  },
  {
   "cell_type": "code",
   "execution_count": null,
   "id": "b8092dae",
   "metadata": {},
   "outputs": [],
   "source": [
    "wqi = pd.read_csv('../data/wqi_pigeon_river.csv', encoding= 'unicode_escape')\n",
    "aqi = pd.read_csv('../data/avg_aqi.csv')\n",
    "vis = pd.read_csv('../data/visitation_by_month_grsm.csv')\n",
    "\n",
    "#reading additional information in. Skipping headers and footers\n",
    "orsa = pd.read_csv('../data/orsa_jobs.csv', skiprows=3, nrows=27)\n",
    "gdp = pd.read_csv('../data/pct_change_gdp.csv', skiprows=3, nrows=3360)"
   ]
  },
  {
   "cell_type": "code",
   "execution_count": null,
   "id": "7904d0c1",
   "metadata": {},
   "outputs": [],
   "source": [
    "#Filtering visitation to only the necessary years\n",
    "vis = vis[(vis['Year'] > 2016)]"
   ]
  },
  {
   "cell_type": "code",
   "execution_count": null,
   "id": "324ce152",
   "metadata": {},
   "outputs": [],
   "source": [
    "#reformatting column titles\n",
    "vis.columns = ['Year', 'Jan', 'Feb', 'Mar', 'Apr', 'May', 'Jun', 'Jul', 'Aug', 'Sep', 'Oct', 'Nov', 'Dec', 'AnnualTotal', 'PctChange']"
   ]
  },
  {
   "cell_type": "code",
   "execution_count": null,
   "id": "fb2775f2",
   "metadata": {},
   "outputs": [],
   "source": [
    "vis.head()"
   ]
  },
  {
   "cell_type": "code",
   "execution_count": null,
   "id": "5a1ea262",
   "metadata": {},
   "outputs": [],
   "source": [
    "aqi.head()"
   ]
  },
  {
   "cell_type": "code",
   "execution_count": null,
   "id": "1600cfec",
   "metadata": {},
   "outputs": [],
   "source": [
    "wqi.head()"
   ]
  },
  {
   "cell_type": "code",
   "execution_count": null,
   "id": "dffdf13e",
   "metadata": {},
   "outputs": [],
   "source": [
    "orsa.head()"
   ]
  },
  {
   "cell_type": "code",
   "execution_count": null,
   "id": "5f844b9f",
   "metadata": {},
   "outputs": [],
   "source": [
    "gdp.head()"
   ]
  },
  {
   "cell_type": "code",
   "execution_count": null,
   "id": "27fa7c6d",
   "metadata": {},
   "outputs": [],
   "source": [
    "wqi['Date'] = pd.to_datetime(wqi['Date'])\n",
    "wqi['Year'] = pd.DatetimeIndex(wqi['Date']).year"
   ]
  },
  {
   "cell_type": "code",
   "execution_count": null,
   "id": "84a402d9",
   "metadata": {},
   "outputs": [],
   "source": [
    "#plotting WQI by year\n",
    "wqiplot = sns.lineplot(x=wqi['Year'], y=wqi['Final WQI'], ci=None)\n",
    "wqiplot.set(xlabel='Year',\n",
    "           ylabel='Average Water Quality Index (WQI)',\n",
    "           title='Water Quality Index by Year')\n",
    "plt.show()"
   ]
  },
  {
   "cell_type": "markdown",
   "id": "f3cb3af7",
   "metadata": {},
   "source": [
    "The higher the WQI is, the greater the water quality is assumed to be."
   ]
  },
  {
   "cell_type": "code",
   "execution_count": null,
   "id": "5ac40e7d",
   "metadata": {},
   "outputs": [],
   "source": [
    "#plotting AQI by year\n",
    "aqiplot = sns.lineplot(x=aqi['Year'], y=aqi['AvgAQI'], ci=None)\n",
    "aqiplot.set(xlabel='Year',\n",
    "           ylabel = 'Average Air Quality Index',\n",
    "           title = 'Air Quality Index by Year')\n",
    "plt.show()"
   ]
  },
  {
   "cell_type": "markdown",
   "id": "f784c095",
   "metadata": {},
   "source": [
    "The lower the AQI is, the better the air quality is said to be."
   ]
  },
  {
   "cell_type": "code",
   "execution_count": null,
   "id": "dade07ee",
   "metadata": {},
   "outputs": [],
   "source": [
    "vis = vis.replace([\",\", \"%\"], \"\", regex=True)"
   ]
  },
  {
   "cell_type": "code",
   "execution_count": null,
   "id": "b190f9d5",
   "metadata": {},
   "outputs": [],
   "source": [
    "vis = vis[['Year', 'Jan', 'Feb', 'Mar', 'Apr', 'May', 'Jun', 'Jul', 'Aug', 'Sep', 'Oct', 'Nov', 'Dec', 'AnnualTotal']].astype(int)"
   ]
  },
  {
   "cell_type": "code",
   "execution_count": null,
   "id": "eb157daa",
   "metadata": {},
   "outputs": [],
   "source": [
    "#plotting visitation by year\n",
    "visplot = sns.lineplot(x = vis['Year'], y = vis['AnnualTotal'])\n",
    "plt.ticklabel_format(style='plain', axis='y')\n",
    "plt.xlabel(\"Year\")\n",
    "plt.ylabel(\"Annual Visitors\")\n",
    "plt.title(\"GRSM Annual Visitors\")\n",
    "plt.show()"
   ]
  },
  {
   "cell_type": "markdown",
   "id": "94749d62",
   "metadata": {},
   "source": [
    "Visitation increases through the data, with a slight drop for 2020, but overall visitation recovered very quickly.  Will re-plot to visualize drops through the year."
   ]
  },
  {
   "cell_type": "code",
   "execution_count": null,
   "id": "73d21bac",
   "metadata": {
    "scrolled": false
   },
   "outputs": [],
   "source": [
    "#plotting yearly visitation to better see where the drop occurs in 2020.\n",
    "vis1 = vis.set_index('Year')\n",
    "vis1 = vis1[['Jan', 'Feb', 'Mar', 'Apr', 'May', 'Jun', 'Jul', 'Aug', 'Sep', 'Oct', 'Nov', 'Dec']]\n",
    "\n",
    "for index, row in vis1.iterrows():\n",
    "    plt.plot(row, label = index)\n",
    "\n",
    "plt.ticklabel_format(style='plain', axis='y')\n",
    "plt.ylabel('')\n",
    "plt.title('Number of Visitors by Month')\n",
    "plt.legend(bbox_to_anchor=(1.04, 1), loc='upper left')\n",
    "plt.show()"
   ]
  },
  {
   "cell_type": "markdown",
   "id": "944eadf7",
   "metadata": {},
   "source": [
    "The above graph shows a clear drop in visitors during March, April, and May 2020 but quickly recovers by June 2020. From there, visitation continues to set all time highs for the park."
   ]
  },
  {
   "cell_type": "code",
   "execution_count": null,
   "id": "87a608df",
   "metadata": {},
   "outputs": [],
   "source": [
    "#creating month column\n",
    "wqi['Month'] = pd.DatetimeIndex(wqi['Date']).month"
   ]
  },
  {
   "cell_type": "code",
   "execution_count": null,
   "id": "db6b49e8",
   "metadata": {},
   "outputs": [],
   "source": [
    "#creating a grouped table to plot average WQI by month\n",
    "wqigrouped = pd.DataFrame(wqi.groupby(['Year', 'Month'])['Final WQI'].mean()).reset_index()"
   ]
  },
  {
   "cell_type": "code",
   "execution_count": null,
   "id": "ebca6ba9",
   "metadata": {
    "scrolled": false
   },
   "outputs": [],
   "source": [
    "#plotting WQI by month\n",
    "plt.plot(wqigrouped[(wqigrouped['Year'] == 2022)]['Month'], \n",
    "         wqigrouped[(wqigrouped['Year'] == 2022)]['Final WQI'])\n",
    "plt.plot(wqigrouped[(wqigrouped['Year'] == 2021)]['Month'], \n",
    "         wqigrouped[(wqigrouped['Year'] == 2021)]['Final WQI'])\n",
    "plt.plot(wqigrouped[(wqigrouped['Year'] == 2020)]['Month'], \n",
    "         wqigrouped[(wqigrouped['Year'] == 2020)]['Final WQI'])\n",
    "plt.plot(wqigrouped[(wqigrouped['Year'] == 2019)]['Month'], \n",
    "         wqigrouped[(wqigrouped['Year'] == 2019)]['Final WQI'])\n",
    "plt.plot(wqigrouped[(wqigrouped['Year'] == 2018)]['Month'], \n",
    "         wqigrouped[(wqigrouped['Year'] == 2018)]['Final WQI'])\n",
    "plt.plot(wqigrouped[(wqigrouped['Year'] == 2017)]['Month'], \n",
    "         wqigrouped[(wqigrouped['Year'] == 2017)]['Final WQI'])\n",
    "plt.xticks([1, 2, 3, 4, 5, 6, 7, 8, 9, 10, 11, 12], \n",
    "          labels = ['Jan', 'Feb', 'Mar', 'Apr', 'May', 'Jun', 'Jul', 'Aug', 'Sep', 'Oct', 'Nov', 'Dec'])\n",
    "plt.ylabel('Average Water Quality Index')\n",
    "plt.title('Water Quality Index by Month')\n",
    "plt.legend([2022, 2021, 2020, 2019, 2018, 2017], \n",
    "           bbox_to_anchor=(1.04, 1), loc='upper left')\n",
    "plt.show()"
   ]
  },
  {
   "cell_type": "markdown",
   "id": "95906805",
   "metadata": {},
   "source": [
    "Despite missing a large portion of data for the 2020 year you can see the positive difference in water quality for the park in the latter half of 2020. Moving into 2021, water quality continues to increase until April, at which point it takes a sharp decline. "
   ]
  },
  {
   "cell_type": "code",
   "execution_count": null,
   "id": "c0e7954e",
   "metadata": {},
   "outputs": [],
   "source": [
    "plt.plot(aqi[(aqi['Year'] == 2022)]['Month'], \n",
    "         aqi[(aqi['Year'] == 2022)]['AvgAQI'])\n",
    "plt.plot(aqi[(aqi['Year'] == 2021)]['Month'], \n",
    "         aqi[(aqi['Year'] == 2021)]['AvgAQI'])\n",
    "plt.plot(aqi[(aqi['Year'] == 2020)]['Month'], \n",
    "         aqi[(aqi['Year'] == 2020)]['AvgAQI'])\n",
    "plt.plot(aqi[(aqi['Year'] == 2019)]['Month'], \n",
    "         aqi[(aqi['Year'] == 2019)]['AvgAQI'])\n",
    "plt.plot(aqi[(aqi['Year'] == 2018)]['Month'], \n",
    "         aqi[(aqi['Year'] == 2018)]['AvgAQI'])\n",
    "plt.plot(aqi[(aqi['Year'] == 2017)]['Month'], \n",
    "         aqi[(aqi['Year'] == 2017)]['AvgAQI'])\n",
    "plt.legend([2022, 2021, 2020, 2019, 2018, 2017], \n",
    "           bbox_to_anchor=(1.04, 1), loc='upper left')\n",
    "plt.ylabel('Average Air Quality Index')\n",
    "plt.title('Air Quality Index by Month')\n",
    "plt.show()"
   ]
  },
  {
   "cell_type": "markdown",
   "id": "d4509a7b",
   "metadata": {},
   "source": [
    "For the Air Quality Index, lower numbers signify better air quality. The environmental trends continue for this datapoint, with 2020 consistently having the best Air Quality over the six year period."
   ]
  },
  {
   "cell_type": "code",
   "execution_count": null,
   "id": "db5531ac",
   "metadata": {},
   "outputs": [],
   "source": [
    "aqi.groupby('Year').describe().to_csv('../data/aqi_describe.csv')"
   ]
  },
  {
   "cell_type": "code",
   "execution_count": null,
   "id": "0302a9c7",
   "metadata": {},
   "outputs": [],
   "source": [
    "wqi.groupby('Year').describe().to_csv('../data/wqi_describe.csv')"
   ]
  },
  {
   "cell_type": "code",
   "execution_count": null,
   "id": "07b0f976",
   "metadata": {},
   "outputs": [],
   "source": [
    "orsa.head()"
   ]
  },
  {
   "cell_type": "code",
   "execution_count": null,
   "id": "3b189aea",
   "metadata": {},
   "outputs": [],
   "source": [
    "#filtering GDP to only relevant counties in TN\n",
    "gdpblount = gdp[(gdp['GeoName'] == 'Blount, TN')]\n",
    "gdpsevier = gdp[(gdp['GeoName'] == 'Sevier, TN')]\n",
    "gdpcocke = gdp[(gdp['GeoName'] == 'Cocke, TN')]"
   ]
  },
  {
   "cell_type": "code",
   "execution_count": null,
   "id": "da6866a5",
   "metadata": {},
   "outputs": [],
   "source": [
    "gdpblount.info()"
   ]
  },
  {
   "cell_type": "code",
   "execution_count": null,
   "id": "734f56fe",
   "metadata": {},
   "outputs": [],
   "source": [
    "#creating a dataframe of total pct change in gdp for the GRSM counties and Tennessee\n",
    "totalpctchange = pd.concat([gdp[0:1], gdpblount[0:1], gdpcocke[0:1], gdpsevier[0:1]], ignore_index=True)"
   ]
  },
  {
   "cell_type": "code",
   "execution_count": null,
   "id": "2816733a",
   "metadata": {},
   "outputs": [],
   "source": [
    "#eliminating columns not needed for plotting\n",
    "totalpctchange = totalpctchange[['GeoName', '2017', '2018', '2019', '2020', '2021']]"
   ]
  },
  {
   "cell_type": "code",
   "execution_count": null,
   "id": "a5baa0f9",
   "metadata": {},
   "outputs": [],
   "source": [
    "#setting datatypes for plotting\n",
    "totalpctchange['2017'] = totalpctchange['2017'].astype(float)\n",
    "totalpctchange['2018'] = totalpctchange['2018'].astype(float)\n",
    "totalpctchange['2019'] = totalpctchange['2019'].astype(float)\n",
    "totalpctchange['2020'] = totalpctchange['2020'].astype(float)\n",
    "totalpctchange['2021'] = totalpctchange['2021'].astype(float)"
   ]
  },
  {
   "cell_type": "code",
   "execution_count": null,
   "id": "fbdd5109",
   "metadata": {},
   "outputs": [],
   "source": [
    "#formatting data to transpose\n",
    "tpc = totalpctchange.set_index('GeoName')"
   ]
  },
  {
   "cell_type": "code",
   "execution_count": null,
   "id": "e36aeb89",
   "metadata": {},
   "outputs": [],
   "source": [
    "#transposing and renaming columns\n",
    "tpc = tpc.T.reset_index()\n",
    "tpc.columns = ['Year', 'Tennessee', 'Blount, TN', 'Cocke, TN', 'Sevier, TN']"
   ]
  },
  {
   "cell_type": "code",
   "execution_count": null,
   "id": "8ce9c86c",
   "metadata": {},
   "outputs": [],
   "source": [
    "#making sure everything is right\n",
    "tpc"
   ]
  },
  {
   "cell_type": "code",
   "execution_count": null,
   "id": "e172b018",
   "metadata": {},
   "outputs": [],
   "source": [
    "#plotting overall percent change in GDP through time\n",
    "plt.plot(tpc['Year'], tpc['Tennessee'])\n",
    "plt.plot(tpc['Year'], tpc['Blount, TN'])\n",
    "plt.plot(tpc['Year'], tpc['Cocke, TN'])\n",
    "plt.plot(tpc['Year'], tpc['Sevier, TN'])\n",
    "plt.xlabel('Year')\n",
    "plt.ylabel('Pct Change in GDP')\n",
    "plt.title('Percent Change in GDP by Location')\n",
    "plt.legend(['Tennessee', 'Blount, TN', 'Cocke, TN', 'Sevier, TN'], bbox_to_anchor=(1.04, 1), loc='upper left')\n",
    "plt.show()"
   ]
  },
  {
   "cell_type": "markdown",
   "id": "f546944b",
   "metadata": {},
   "source": [
    "Sevier County had the largest percent change in GDP during the pandemic, 2020. Cocke County was the GRSM location to report a positive increase for 2020, at only 0.3% . Will investigate Sevier County see what industries were most effected. All locations very quickly recovered in 2021.\n",
    "\n",
    "Sevier County includes two of the most popular destinations in the GRSM park; Gatlinburg and Pigeon Forge."
   ]
  },
  {
   "cell_type": "code",
   "execution_count": null,
   "id": "e8ab908e",
   "metadata": {},
   "outputs": [],
   "source": [
    "#simplifying the dataframe\n",
    "gdps = gdpsevier[['LineCode', 'Description', '2017', '2018', '2019', '2020', '2021']]"
   ]
  },
  {
   "cell_type": "code",
   "execution_count": null,
   "id": "2e55a5e9",
   "metadata": {},
   "outputs": [],
   "source": [
    "#dropping null values\n",
    "gdps = gdps.dropna()"
   ]
  },
  {
   "cell_type": "code",
   "execution_count": null,
   "id": "99705762",
   "metadata": {},
   "outputs": [],
   "source": [
    "#\"(D) Not shown to avoid disclosure of confidential information; estimates are included in higher-level totals.\" \n",
    "# Will replace these with zeroes to hopefully maintain some usability of the prior years data.\n",
    "gdps = gdps.replace(to_replace='(D)', value=0)"
   ]
  },
  {
   "cell_type": "code",
   "execution_count": null,
   "id": "f6354667",
   "metadata": {},
   "outputs": [],
   "source": [
    "#converting to float datatype\n",
    "gdps[['2017', '2018', '2019', '2020', '2021']] = gdps[['2017', '2018', '2019', '2020', '2021']].astype(float)"
   ]
  },
  {
   "cell_type": "code",
   "execution_count": null,
   "id": "99acc21f",
   "metadata": {},
   "outputs": [],
   "source": [
    "#Filtering to not include the aggregated categories\n",
    "gdps = gdps[(~gdps['LineCode'].isin([1, 2, 12, 50, 59, 68, 75, 87, 88, 89, 90, 91, 92]))]"
   ]
  },
  {
   "cell_type": "code",
   "execution_count": null,
   "id": "b2823dcf",
   "metadata": {},
   "outputs": [],
   "source": [
    "#Dropping line code column, no longer need to filter with that\n",
    "gdps = gdps[['Description', '2017', '2018', '2019', '2020', '2021']]"
   ]
  },
  {
   "cell_type": "code",
   "execution_count": null,
   "id": "e35737e1",
   "metadata": {},
   "outputs": [],
   "source": [
    "#plotting the most effected industries for Sevier County \n",
    "gdps1 = gdps.set_index('Description')\n",
    "gdps1 = gdps1.sort_values('2020').head()\n",
    "\n",
    "for index, row in gdps1.iterrows():\n",
    "    plt.plot(row, label = index)\n",
    "\n",
    "plt.ticklabel_format(style='plain', axis='y')\n",
    "plt.ylabel('Percent Change in GDP')\n",
    "plt.title('Hardest Hit Industries, Sevier County')\n",
    "plt.legend(bbox_to_anchor=(1.04, 1), loc='upper left')\n",
    "plt.show()"
   ]
  },
  {
   "cell_type": "code",
   "execution_count": null,
   "id": "d2199841",
   "metadata": {},
   "outputs": [],
   "source": [
    "gdps1"
   ]
  },
  {
   "cell_type": "code",
   "execution_count": null,
   "id": "81fb12d5",
   "metadata": {},
   "outputs": [],
   "source": [
    "vis"
   ]
  },
  {
   "cell_type": "code",
   "execution_count": null,
   "id": "1ae45e7d",
   "metadata": {},
   "outputs": [],
   "source": [
    "aqi.groupby('Year').describe()"
   ]
  },
  {
   "cell_type": "code",
   "execution_count": null,
   "id": "ac41725f",
   "metadata": {},
   "outputs": [],
   "source": [
    "#reformatting vis table to join on AQI\n",
    "vismelt = pd.melt(vis, id_vars = 'Year')"
   ]
  },
  {
   "cell_type": "code",
   "execution_count": null,
   "id": "ed63173b",
   "metadata": {},
   "outputs": [],
   "source": [
    "#renaming vis columns\n",
    "vismelt.columns = ['Year', 'Month', 'Visitors']"
   ]
  },
  {
   "cell_type": "code",
   "execution_count": null,
   "id": "62bdd794",
   "metadata": {},
   "outputs": [],
   "source": [
    "vismelt.head()"
   ]
  },
  {
   "cell_type": "code",
   "execution_count": null,
   "id": "7c754f0a",
   "metadata": {},
   "outputs": [],
   "source": [
    "#Merging two tables together\n",
    "visaqi = aqi.merge(vismelt, on=['Year', 'Month'], how='inner')"
   ]
  },
  {
   "cell_type": "code",
   "execution_count": null,
   "id": "333d8e07",
   "metadata": {},
   "outputs": [],
   "source": [
    "#Checking for correlations\n",
    "visaqi.corr()"
   ]
  },
  {
   "cell_type": "code",
   "execution_count": null,
   "id": "d9f2431b",
   "metadata": {},
   "outputs": [],
   "source": [
    "visaqi.info()"
   ]
  },
  {
   "cell_type": "code",
   "execution_count": null,
   "id": "d4870675",
   "metadata": {},
   "outputs": [],
   "source": [
    "#Plotting Air Quality Index against Visitors\n",
    "sns.scatterplot(data=visaqi, x = 'Visitors', y = 'AvgAQI', hue='Year', palette=['#937860', '#8172b3', '#c44e52', '#55a868', '#dd8452', '#4c72b0'])\n",
    "plt.ticklabel_format(style='plain', axis='x')\n",
    "plt.xticks(rotation=45)\n",
    "plt.legend(bbox_to_anchor=(1.04, 1), loc='upper left')\n",
    "plt.ylabel('Average AQI')\n",
    "plt.title('Air Quality Index and Visitation')\n",
    "plt.show()"
   ]
  },
  {
   "cell_type": "code",
   "execution_count": null,
   "id": "a0f1068e",
   "metadata": {},
   "outputs": [],
   "source": [
    "#Changing numeric month to abbreviated month\n",
    "wqigrouped['Month'] = wqigrouped['Month'].apply(lambda x: calendar.month_abbr[x])"
   ]
  },
  {
   "cell_type": "code",
   "execution_count": null,
   "id": "7b7ea834",
   "metadata": {},
   "outputs": [],
   "source": [
    "#joining wqi to vis\n",
    "wqivis = wqigrouped.merge(vismelt, on=['Year', 'Month'], how='inner')"
   ]
  },
  {
   "cell_type": "code",
   "execution_count": null,
   "id": "faac24e7",
   "metadata": {},
   "outputs": [],
   "source": [
    "#Plotting water quality index against visitation\n",
    "sns.scatterplot(data=wqivis, x = 'Visitors', y = 'Final WQI', hue='Year', palette=['#937860', '#8172b3', '#c44e52', '#55a868', '#dd8452', '#4c72b0'])\n",
    "plt.ticklabel_format(style='plain', axis='x')\n",
    "plt.xticks(rotation=45)\n",
    "plt.legend(bbox_to_anchor=(1.04, 1), loc='upper left')\n",
    "plt.ylabel('Average WQI')\n",
    "plt.title('Water Quality Index and Visitation')\n",
    "plt.show()"
   ]
  },
  {
   "cell_type": "code",
   "execution_count": null,
   "id": "f9b4ef2d",
   "metadata": {},
   "outputs": [],
   "source": [
    "#checking for correlation coefficient\n",
    "wqivis.corr()"
   ]
  },
  {
   "cell_type": "code",
   "execution_count": null,
   "id": "4b933ee9",
   "metadata": {},
   "outputs": [],
   "source": [
    "#Filtering out the aggregated categories to see specifically what industries were most impacted.\n",
    "orsa1 = orsa[(~orsa['LineCode'].isin([1, 2, 4, 5, 7, 14, 18, 21, 25]))]"
   ]
  },
  {
   "cell_type": "code",
   "execution_count": null,
   "id": "5df1dd2a",
   "metadata": {},
   "outputs": [],
   "source": [
    "#formatting jobs by year to later plot\n",
    "totaljobsbyyear = orsa[:1][['Description', '2017', '2018', '2019', '2020', '2021']].T\\\n",
    "    .reset_index()[1:6].rename(columns={'index':'Year', 0:'Jobs'})"
   ]
  },
  {
   "cell_type": "code",
   "execution_count": null,
   "id": "eb85e691",
   "metadata": {},
   "outputs": [],
   "source": [
    "#converting to int for plotting\n",
    "totaljobsbyyear['Year'] = totaljobsbyyear['Year'].astype(int)\n",
    "totaljobsbyyear['Jobs'] = totaljobsbyyear['Jobs'].astype(int)"
   ]
  },
  {
   "cell_type": "code",
   "execution_count": null,
   "id": "90d0fabf",
   "metadata": {},
   "outputs": [],
   "source": [
    "sns.lineplot(x = totaljobsbyyear['Year'], y = totaljobsbyyear['Jobs'])\n",
    "plt.xticks([2017, 2018, 2019, 2020, 2021])\n",
    "plt.title(\"Outdoor Recreation Jobs, TN\")\n",
    "plt.ylabel(\"Outdoor Recreation Jobs\")\n",
    "plt.ylim(0,120000)\n",
    "plt.show()"
   ]
  },
  {
   "cell_type": "code",
   "execution_count": null,
   "id": "9ecfc2a3",
   "metadata": {},
   "outputs": [],
   "source": [
    "totaljobsbyyear"
   ]
  },
  {
   "cell_type": "code",
   "execution_count": null,
   "id": "0d03e079",
   "metadata": {},
   "outputs": [],
   "source": [
    "#plotting the most affected industries for Sevier County \n",
    "orsa1 = orsa[(~orsa['LineCode'].isin([1, 2, 4, 5, 7, 14, 18, 21, 25]))]\n",
    "orsa1 = orsa1.set_index('Description')\n",
    "orsa1 = orsa1.sort_values('2020 Pct Change').head()\n",
    "orsa1 = orsa1[['2018 Pct Change', '2019 Pct Change', '2020 Pct Change', '2021 Pct Change']]\n",
    "\n",
    "for index, row in orsa1.iterrows():\n",
    "    plt.plot(row, label = index)\n",
    "plt.xticks([0, 1, 2, 3], labels = ['2018', '2019', '2020', '2021'])\n",
    "plt.ylabel('Percent Change in Jobs')\n",
    "plt.title('Outdoor Jobs, Tennessee')\n",
    "plt.legend(bbox_to_anchor=(1.04, 1), loc='upper left')\n",
    "plt.show()"
   ]
  }
 ],
 "metadata": {
  "kernelspec": {
   "display_name": "Python 3 (ipykernel)",
   "language": "python",
   "name": "python3"
  },
  "language_info": {
   "codemirror_mode": {
    "name": "ipython",
    "version": 3
   },
   "file_extension": ".py",
   "mimetype": "text/x-python",
   "name": "python",
   "nbconvert_exporter": "python",
   "pygments_lexer": "ipython3",
   "version": "3.9.13"
  }
 },
 "nbformat": 4,
 "nbformat_minor": 5
}
